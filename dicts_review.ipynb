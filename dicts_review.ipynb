{
 "metadata": {
  "language_info": {
   "codemirror_mode": {
    "name": "ipython",
    "version": 3
   },
   "file_extension": ".py",
   "mimetype": "text/x-python",
   "name": "python",
   "nbconvert_exporter": "python",
   "pygments_lexer": "ipython3",
   "version": "3.6.9-final"
  },
  "orig_nbformat": 2,
  "kernelspec": {
   "name": "python36964bitvenvvirtualenv40c348f817b44481bd8c39a42ecd9aae",
   "display_name": "Python 3.6.9 64-bit ('venv': virtualenv)"
  }
 },
 "nbformat": 4,
 "nbformat_minor": 2,
 "cells": [
  {
   "cell_type": "code",
   "execution_count": 1,
   "metadata": {},
   "outputs": [],
   "source": [
    "names = {\"Stark\": ['Ned', \"Sansa\", \"Robb\", \"Rickon\"],\n",
    "         \"Lannister\": ['Jaime', 'Cersei', \"Tywin\"],\n",
    "         \"Snow\" : ['Jon']\n",
    "         }"
   ]
  },
  {
   "cell_type": "code",
   "execution_count": 2,
   "metadata": {},
   "outputs": [
    {
     "output_type": "execute_result",
     "data": {
      "text/plain": "{'Stark': ['Ned', 'Sansa', 'Robb', 'Rickon'],\n 'Lannister': ['Jaime', 'Cersei', 'Tywin'],\n 'Snow': ['Jon']}"
     },
     "metadata": {},
     "execution_count": 2
    }
   ],
   "source": [
    "names"
   ]
  },
  {
   "cell_type": "code",
   "execution_count": 3,
   "metadata": {},
   "outputs": [
    {
     "output_type": "execute_result",
     "data": {
      "text/plain": "'Sansa'"
     },
     "metadata": {},
     "execution_count": 3
    }
   ],
   "source": [
    "names['Stark'][1]"
   ]
  },
  {
   "cell_type": "code",
   "execution_count": 4,
   "metadata": {},
   "outputs": [],
   "source": [
    "def greater_than_ten(my_dictionary, number):\n",
    "  count = 0\n",
    "  for value in my_dictionary.values():\n",
    "    if value > number:\n",
    "      count += 1\n",
    "  return count"
   ]
  },
  {
   "cell_type": "code",
   "execution_count": 5,
   "metadata": {},
   "outputs": [],
   "source": [
    "def count_first_letter(names):\n",
    "\n",
    "    letters = {}\n",
    "    for key in names:\n",
    "        first_letter = key[0]\n",
    "        if first_letter not in letters:\n",
    "            letters[first_letter] = 0\n",
    "        letters[first_letter] += len(names[key])\n",
    "    return letters\n"
   ]
  },
  {
   "cell_type": "code",
   "execution_count": 6,
   "metadata": {
    "tags": []
   },
   "outputs": [
    {
     "output_type": "stream",
     "name": "stdout",
     "text": "{'S': 5, 'L': 3}\n"
    }
   ],
   "source": [
    "print(count_first_letter(names))"
   ]
  },
  {
   "cell_type": "markdown",
   "metadata": {},
   "source": [
    "Write a function named sum_values that takes a dictionary named my_dictionary as a parameter. The function should return the sum of the values of the dictionary"
   ]
  },
  {
   "cell_type": "code",
   "execution_count": 7,
   "metadata": {},
   "outputs": [],
   "source": [
    "def sum_values(dicionario):\n",
    "\n",
    "    \"\"\"\n",
    "    sum of the values of the dictionary.\n",
    "    args: input: dictionary\n",
    "          return: sum of values from dictionary\n",
    "    \"\"\"\n",
    "    sum_values = 0\n",
    "    for value in dicionario.values():\n",
    "        sum_values += value\n",
    "    return sum_values\n",
    "\n",
    "\n",
    "    \n",
    "\n",
    "\n",
    "\n"
   ]
  },
  {
   "cell_type": "code",
   "execution_count": 8,
   "metadata": {
    "tags": []
   },
   "outputs": [
    {
     "output_type": "stream",
     "name": "stdout",
     "text": "10\n6\n"
    }
   ],
   "source": [
    "# Uncomment these function calls to test your sum_values function:\n",
    "print(sum_values({\"milk\":5, \"eggs\":2, \"flour\": 3}))\n",
    "# should print 10\n",
    "print(sum_values({10:1, 100:2, 1000:3}))\n",
    "# should print 6"
   ]
  },
  {
   "cell_type": "markdown",
   "metadata": {},
   "source": [
    "Create a function called sum_even_keys that takes a dictionary named my_dictionary, with all integer keys and values, as a parameter. This function should return the sum of the values of all even keys."
   ]
  },
  {
   "cell_type": "code",
   "execution_count": 9,
   "metadata": {
    "tags": []
   },
   "outputs": [
    {
     "output_type": "stream",
     "name": "stdout",
     "text": "2\n6\n"
    }
   ],
   "source": [
    "def sum_even_keys(my_dictionary):\n",
    "\n",
    "  sum_even_keys = 0\n",
    "  \n",
    "  for key, value in my_dictionary.items():\n",
    "    if key % 2 == 0:\n",
    "      sum_even_keys += value\n",
    "  return sum_even_keys\n",
    "# Uncomment these function calls to test your  function:\n",
    "print(sum_even_keys({1:5, 2:2, 3:3}))\n",
    "# should print 2\n",
    "print(sum_even_keys({10:1, 100:2, 1000:3}))\n",
    "# should print 6"
   ]
  },
  {
   "cell_type": "markdown",
   "metadata": {},
   "source": [
    "Create a function named add_ten that takes a dictionary with integer values named my_dictionary as a parameter. The function should add 10 to every value in my_dictionary and return my_dictionary"
   ]
  },
  {
   "cell_type": "code",
   "execution_count": 10,
   "metadata": {},
   "outputs": [],
   "source": [
    "def add_ten(my_dictionary):\n",
    "    '''\n",
    "    The function should add 10 to every value in my_dictionary and return my dictionary.\n",
    "    args:\n",
    "         input - my_dictionary with integer values\n",
    "         return - my_dictionary\n",
    "    '''\n",
    "    for key, value in my_dictionary.items():\n",
    "        my_dictionary[key] += 10\n",
    "    return my_dictionary"
   ]
  },
  {
   "cell_type": "code",
   "execution_count": 11,
   "metadata": {
    "tags": []
   },
   "outputs": [
    {
     "output_type": "stream",
     "name": "stdout",
     "text": "{1: 15, 2: 12, 3: 13}\n{10: 11, 100: 12, 1000: 13}\n"
    }
   ],
   "source": [
    "print(add_ten({1:5, 2:2, 3:3}))\n",
    "# should print {1:15, 2:12, 3:13}\n",
    "print(add_ten({10:1, 100:2, 1000:3}))\n",
    "# should print {10:11, 100:12, 1000:13}"
   ]
  },
  {
   "cell_type": "markdown",
   "metadata": {},
   "source": [
    "Create a function named values_that_are_keys that takes a dictionary named my_dictionary as a parameter. This function should return a list of all values in the dictionary that are also keys."
   ]
  },
  {
   "cell_type": "code",
   "execution_count": 12,
   "metadata": {},
   "outputs": [],
   "source": [
    "def values_that_are_keys(my_dictionary):\n",
    "    '''\n",
    "    This function return a list of all values in the dictionary that are also keys.\n",
    "    args:\n",
    "        input - my_dictionary\n",
    "        return - list of all values are also keys.\n",
    "    '''\n",
    "    list_values = []\n",
    "    for value in my_dictionary.values():\n",
    "        if value in my_dictionary.keys():\n",
    "            list_values.append(value)\n",
    "    return list_values"
   ]
  },
  {
   "cell_type": "code",
   "execution_count": 13,
   "metadata": {
    "tags": []
   },
   "outputs": [
    {
     "output_type": "stream",
     "name": "stdout",
     "text": "[1, 4]\n['a']\n"
    }
   ],
   "source": [
    "print(values_that_are_keys({1:100, 2:1, 3:4, 4:10}))\n",
    "# should print [1, 4]\n",
    "print(values_that_are_keys({\"a\":\"apple\", \"b\":\"a\", \"c\":100}))"
   ]
  },
  {
   "cell_type": "markdown",
   "metadata": {},
   "source": [
    "Write a function named max_key that takes a dictionary named my_dictionary as a parameter. The function should return the key associated with the largest value in the dictionary."
   ]
  },
  {
   "cell_type": "code",
   "execution_count": 14,
   "metadata": {},
   "outputs": [],
   "source": [
    "def max_key(my_dictionary):\n",
    "\n",
    "    largest_key = \"\"\n",
    "    largest_value = float(\"-inf\")\n",
    "    for key, value in my_dictionary.items():\n",
    "        if value > largest_value:\n",
    "            largest_value = value\n",
    "            largest_key = key\n",
    "    return largest_key"
   ]
  },
  {
   "cell_type": "code",
   "execution_count": 15,
   "metadata": {
    "tags": []
   },
   "outputs": [
    {
     "output_type": "stream",
     "name": "stdout",
     "text": "1\nc\n"
    }
   ],
   "source": [
    "print(max_key({1:100, 2:1, 3:4, 4:10}))\n",
    "# should print 1\n",
    "print(max_key({\"a\":100, \"b\":10, \"c\":1000}))\n",
    "# should print \"c\""
   ]
  },
  {
   "cell_type": "markdown",
   "metadata": {},
   "source": [
    "Write a function named word_length_dictionary that takes a list of strings named words as a parameter. The function should return a dictionary of key/value pairs where every key is a word in words and every value is the length of that word"
   ]
  },
  {
   "cell_type": "code",
   "execution_count": 16,
   "metadata": {},
   "outputs": [],
   "source": [
    "def word_length_dictionary(words):\n",
    "    \n",
    "    # args: list of strings \n",
    "    # return dict{word:len(word)}\n",
    "\n",
    "    dictionary = {}\n",
    "    for word in words:\n",
    "        dictionary[word] = len(word)\n",
    "    return dictionary"
   ]
  },
  {
   "cell_type": "code",
   "execution_count": 17,
   "metadata": {
    "tags": []
   },
   "outputs": [
    {
     "output_type": "stream",
     "name": "stdout",
     "text": "{'apple': 5, 'dog': 3, 'cat': 3}\n"
    }
   ],
   "source": [
    "print(word_length_dictionary([\"apple\", \"dog\", \"cat\"]))\n",
    "# should print {\"apple\":5, \"dog\": 3, \"cat\":3}"
   ]
  },
  {
   "cell_type": "markdown",
   "metadata": {},
   "source": [
    "Write a function named frequency_dictionary that takes a list of elements named words as a parameter. The function should return a dictionary containing the frequency of each element in words."
   ]
  },
  {
   "cell_type": "code",
   "execution_count": 18,
   "metadata": {},
   "outputs": [],
   "source": [
    "def frequency_dictionary(words):\n",
    "  freqs = {}\n",
    "  for word in words:\n",
    "    if word not in freqs:\n",
    "    \tfreqs[word] = 0\n",
    "    freqs[word] += 1\n",
    "  return freqs"
   ]
  },
  {
   "cell_type": "code",
   "execution_count": 19,
   "metadata": {
    "tags": []
   },
   "outputs": [
    {
     "output_type": "stream",
     "name": "stdout",
     "text": "{'apple': 2, 'cat': 1, 1: 1}\n"
    }
   ],
   "source": [
    "print(frequency_dictionary([\"apple\", \"apple\", \"cat\", 1]))"
   ]
  },
  {
   "cell_type": "markdown",
   "metadata": {},
   "source": [
    "Create a function named unique_values that takes a dictionary named my_dictionary as a parameter. The function should return the number of unique values in the dictionary."
   ]
  },
  {
   "cell_type": "code",
   "execution_count": 20,
   "metadata": {},
   "outputs": [],
   "source": [
    "def unique_values(my_dictionary):\n",
    "  seen_values = []\n",
    "  for value in my_dictionary.values():\n",
    "    if value not in seen_values:\n",
    "      seen_values.append(value)\n",
    "  return len(seen_values)"
   ]
  },
  {
   "cell_type": "code",
   "execution_count": 21,
   "metadata": {
    "tags": []
   },
   "outputs": [
    {
     "output_type": "stream",
     "name": "stdout",
     "text": "2\n"
    }
   ],
   "source": [
    "print(unique_values({0:3, 1:1, 4:1, 5:3}))"
   ]
  },
  {
   "cell_type": "code",
   "execution_count": null,
   "metadata": {},
   "outputs": [],
   "source": []
  }
 ]
}
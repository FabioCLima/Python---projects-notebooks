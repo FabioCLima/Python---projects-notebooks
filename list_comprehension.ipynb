{
 "metadata": {
  "language_info": {
   "codemirror_mode": {
    "name": "ipython",
    "version": 3
   },
   "file_extension": ".py",
   "mimetype": "text/x-python",
   "name": "python",
   "nbconvert_exporter": "python",
   "pygments_lexer": "ipython3",
   "version": 3
  },
  "orig_nbformat": 2,
  "kernelspec": {
   "name": "python_defaultSpec_1595118510029",
   "display_name": "Python 3.7.7 64-bit (conda)"
  }
 },
 "nbformat": 4,
 "nbformat_minor": 2,
 "cells": [
  {
   "cell_type": "markdown",
   "metadata": {},
   "source": [
    "## List comprehension and for loops exercises"
   ]
  },
  {
   "cell_type": "code",
   "execution_count": 1,
   "metadata": {
    "tags": []
   },
   "outputs": [
    {
     "output_type": "stream",
     "name": "stdout",
     "text": "[0, 1, 2, 3, 4, 5, 6, 7, 8, 9]\n"
    }
   ],
   "source": [
    "lista_A = list(range(10))\n",
    "print(lista_A)"
   ]
  },
  {
   "cell_type": "code",
   "execution_count": 2,
   "metadata": {
    "tags": []
   },
   "outputs": [
    {
     "output_type": "stream",
     "name": "stdout",
     "text": "2\n4\n6\n8\n10\n12\n14\n16\n18\n"
    }
   ],
   "source": [
    "# Syntax of a for loop:\n",
    "for item in lista_A:\n",
    "    if item > 0:\n",
    "        print(item*2)"
   ]
  },
  {
   "cell_type": "markdown",
   "metadata": {},
   "source": [
    "Which is equivalent to this list comprehension:\n",
    "\n",
    "__[expression for item in lista_A if conditional]__"
   ]
  },
  {
   "cell_type": "code",
   "execution_count": 3,
   "metadata": {
    "tags": []
   },
   "outputs": [
    {
     "output_type": "stream",
     "name": "stdout",
     "text": "[1, 2, 3, 4, 5, 6, 7, 8, 9]\n"
    }
   ],
   "source": [
    "myList = list(range(1, 10))\n",
    "print(myList)"
   ]
  },
  {
   "cell_type": "code",
   "execution_count": 4,
   "metadata": {
    "tags": []
   },
   "outputs": [
    {
     "output_type": "stream",
     "name": "stdout",
     "text": "[None, None, None, None]\n"
    }
   ],
   "source": [
    "evenNumbers = []\n",
    "evenNumbers = [evenNumbers.append(number) # expression\n",
    "               for number in myList       # Iniate For loop\n",
    "               if number % 2 == 0]        # Conditional Statement\n",
    "print(evenNumbers)"
   ]
  },
  {
   "cell_type": "code",
   "execution_count": 5,
   "metadata": {
    "tags": []
   },
   "outputs": [
    {
     "output_type": "stream",
     "name": "stdout",
     "text": "[2, 4, 6, 8]\n"
    }
   ],
   "source": [
    "evenNumbers = [number for number in myList if number % 2 == 0]\n",
    "print(evenNumbers)"
   ]
  },
  {
   "cell_type": "code",
   "execution_count": 7,
   "metadata": {
    "tags": []
   },
   "outputs": [
    {
     "output_type": "stream",
     "name": "stdout",
     "text": "[1, 3, 5, 7, 9]\n"
    }
   ],
   "source": [
    "oddNumbers = [number for number in myList if number % 2 != 0]\n",
    "print(oddNumbers)"
   ]
  },
  {
   "cell_type": "code",
   "execution_count": 8,
   "metadata": {
    "tags": []
   },
   "outputs": [
    {
     "output_type": "stream",
     "name": "stdout",
     "text": "[9, 169, 529]\n"
    }
   ],
   "source": [
    "primes = [2, 3, 5, 7, 11, 13, 17, 19, 23, 29]\n",
    "square_primes = [x*x for x in primes if x % 10 == 3]\n",
    "print(square_primes)"
   ]
  },
  {
   "cell_type": "code",
   "execution_count": 9,
   "metadata": {},
   "outputs": [],
   "source": [
    "def has_four_legs(pet):\n",
    "    return pet in ('pig', 'dog', 'turtle', 'hamster', 'cat')\n",
    "\n"
   ]
  },
  {
   "cell_type": "code",
   "execution_count": 10,
   "metadata": {},
   "outputs": [],
   "source": [
    "pets = ('bird', 'snake', 'dog', 'turtle', 'cat', 'hamster')\n",
    "\n",
    "four_legs_pets = [pet.capitalize() for pet in pets if has_four_legs(pet)]\n"
   ]
  },
  {
   "cell_type": "code",
   "execution_count": 11,
   "metadata": {},
   "outputs": [
    {
     "output_type": "execute_result",
     "data": {
      "text/plain": "['Dog', 'Turtle', 'Cat', 'Hamster']"
     },
     "metadata": {},
     "execution_count": 11
    }
   ],
   "source": [
    "four_legs_pets\n"
   ]
  },
  {
   "cell_type": "markdown",
   "metadata": {},
   "source": [
    "#### basic syntax\n",
    "[expression0 if some_condition else expression1 for item in iterable]\n",
    "syntax explained: compared to the list comprehension's basic syntax: [expression for item in iterable], we can think about that (expression0 if some_condition else expression1) is a whole part that constitutes the expression in the general format\n"
   ]
  },
  {
   "cell_type": "code",
   "execution_count": null,
   "metadata": {},
   "outputs": [],
   "source": [
    "max_value = 10\n",
    "numbers = (7, 9, 11, 4, 3, 2, 12)\n",
    "\n",
    "ceiling_numbers0 = [number if number <= max_value else max_value for number in numbers] \n",
    "ceiling_numbers0\n",
    "[7, 9, 10, 4, 3, 2, 10]\n",
    "ceiling_numbers1 = [(number if number <= max_value else max_value) for number in numbers]\n",
    "ceiling_numbers1\n",
    "[7, 9, 10, 4, 3, 2, 10]"
   ]
  },
  {
   "cell_type": "markdown",
   "metadata": {},
   "source": [
    "### break keyword - escapes the loop, regardless of the interation number.\n",
    "\n",
    "\n"
   ]
  },
  {
   "cell_type": "code",
   "execution_count": 13,
   "metadata": {
    "tags": []
   },
   "outputs": [
    {
     "output_type": "stream",
     "name": "stdout",
     "text": "Negative number detected !\n-1\n"
    }
   ],
   "source": [
    "numbers = [0, 254, 2, -1, 3]\n",
    "for num in numbers:\n",
    "    if (num < 0):\n",
    "        print(f\"Negative number detected !\")\n",
    "        break\n",
    "print(f\"{num}\")"
   ]
  },
  {
   "cell_type": "code",
   "execution_count": null,
   "metadata": {},
   "outputs": [],
   "source": [
    "[EXPRESSION for ITEM in LIST <if CONDITIONAL>]\n"
   ]
  },
  {
   "cell_type": "code",
   "execution_count": 14,
   "metadata": {
    "tags": []
   },
   "outputs": [
    {
     "output_type": "stream",
     "name": "stdout",
     "text": "1\n2\n4\n5\n2\n"
    }
   ],
   "source": [
    "big_number_list = [1, 2, -1, 4, -5, 5, 2, -9]\n",
    "\n",
    "# Print only positive numbers:\n",
    "for i in big_number_list:\n",
    "    if i < 0:\n",
    "        continue # skip the remaining code to next loop\n",
    "    print(i)"
   ]
  },
  {
   "cell_type": "code",
   "execution_count": 15,
   "metadata": {
    "tags": []
   },
   "outputs": [
    {
     "output_type": "stream",
     "name": "stdout",
     "text": "boxer\nbulldog\nshiba inu\n"
    }
   ],
   "source": [
    "dog_breeds = [\"boxer\", \"bulldog\", \"shiba inu\"]\n",
    "\n",
    "# Print each breed:\n",
    "for breed in dog_breeds:\n",
    "  print(breed)"
   ]
  },
  {
   "cell_type": "code",
   "execution_count": 16,
   "metadata": {
    "tags": []
   },
   "outputs": [
    {
     "output_type": "stream",
     "name": "stdout",
     "text": "Time to eat!\n1\n2\n3\n4\n5\n"
    }
   ],
   "source": [
    "# This loop will only run 1 time\n",
    "hungry = True\n",
    "while hungry:\n",
    "  print(\"Time to eat!\")\n",
    "  hungry = False\n",
    "\n",
    "# This loop will run 5 times\n",
    "i = 1\n",
    "while i < 6:\n",
    "  print(i)\n",
    "  i += 1"
   ]
  },
  {
   "cell_type": "markdown",
   "metadata": {},
   "source": [
    "### Python Nested Loops\n",
    "\n",
    "In Python, loops can be nested inside other loops. Nested loops can be used to access items of lists which are inside other lists. The item selected from the outer loop can be used as the list for the inner loop to iterate over."
   ]
  },
  {
   "cell_type": "code",
   "execution_count": 17,
   "metadata": {
    "tags": []
   },
   "outputs": [
    {
     "output_type": "stream",
     "name": "stdout",
     "text": "Jobs\nGates\nNewton\nEuclid\nEinstein\nFeynman\n"
    }
   ],
   "source": [
    "groups = [[\"Jobs\", \"Gates\"], [\"Newton\", \"Euclid\"], [\"Einstein\", \"Feynman\"]]\n",
    "\n",
    "# This outer loop will iterate over each list in the groups list\n",
    "for group in groups:\n",
    "  # This inner loop will go through each name in each list\n",
    "  for name in group:\n",
    "    print(name)"
   ]
  },
  {
   "cell_type": "markdown",
   "metadata": {},
   "source": [
    "Create a function named divisible_by_ten() that takes a list of numbers named nums as a parameter.\n",
    "\n",
    "Return the count of how many numbers in the list are divisible by 10"
   ]
  },
  {
   "cell_type": "code",
   "execution_count": 18,
   "metadata": {},
   "outputs": [],
   "source": [
    "def divisible_by_ten(nums):\n",
    "    \"\"\"\n",
    "    args: list of numbers named nums as input.\n",
    "    return: how many numbers in the list are divisible by 10.\n",
    "    \"\"\"\n",
    "    count = 0\n",
    "    for number in nums:\n",
    "        if (number % 10 == 0):\n",
    "            count += 1\n",
    "    return count\n",
    "\n",
    "\n",
    "    "
   ]
  },
  {
   "cell_type": "code",
   "execution_count": 19,
   "metadata": {
    "tags": []
   },
   "outputs": [
    {
     "output_type": "stream",
     "name": "stdout",
     "text": "Existem 3 números divisiveis por 10 na lista de entrada.\n"
    }
   ],
   "source": [
    "resultado = divisible_by_ten([20, 25, 30, 35, 40])\n",
    "print(f\"Existem {resultado} números divisiveis por 10 na lista de entrada.\")"
   ]
  },
  {
   "cell_type": "markdown",
   "metadata": {},
   "source": [
    "Create a function named add_greetings() which takes a list of strings named names as a parameter.\n",
    "\n",
    "In the function, create an empty list that will contain each greeting. Add the string \"Hello, \" in front of each name in names and append the greeting to the list.\n",
    "\n",
    "Return the new list containing the greetings.\n"
   ]
  },
  {
   "cell_type": "code",
   "execution_count": 20,
   "metadata": {},
   "outputs": [],
   "source": [
    "def add_greetings(names):\n",
    "    '''\n",
    "     args: list of strings named as names\n",
    "     return: list containing the greetings\n",
    "    '''\n",
    "    greetings = []\n",
    "    for name in names:\n",
    "        greetings.append('Hello, ' + name)\n",
    "    return greetings"
   ]
  },
  {
   "cell_type": "code",
   "execution_count": 21,
   "metadata": {
    "tags": []
   },
   "outputs": [
    {
     "output_type": "stream",
     "name": "stdout",
     "text": "['Hello, Fabiana', 'Hello, Bianca', 'Hello, Maria Rita', 'Hello, Fernanda']\n"
    }
   ],
   "source": [
    "names = [\"Fabiana\", \"Bianca\", \"Maria Rita\", \"Fernanda\"]\n",
    "print(f\"{add_greetings(names)}\")"
   ]
  },
  {
   "cell_type": "markdown",
   "metadata": {},
   "source": [
    "Write a function called delete_starting_evens() that has a parameter named lst.\n",
    "\n",
    "The function should remove elements from the front of lst until the front of the list is not even. The function should then return lst.\n",
    "\n",
    "For example if lst started as [4, 8, 10, 11, 12, 15], then delete_starting_evens(lst) should return [11, 12, 15].\n",
    "\n",
    "Make sure your function works even if every element in the list is even!"
   ]
  },
  {
   "cell_type": "code",
   "execution_count": 22,
   "metadata": {},
   "outputs": [],
   "source": [
    "def detete_starting_evens(lst):\n",
    "    while (len(lst) > 0 and lst[0] % 2 == 0):\n",
    "        lst = lst[1:]\n",
    "    return lst\n",
    "    "
   ]
  },
  {
   "cell_type": "code",
   "execution_count": 23,
   "metadata": {
    "tags": []
   },
   "outputs": [
    {
     "output_type": "stream",
     "name": "stdout",
     "text": "[11, 12, 15]\n"
    }
   ],
   "source": [
    "print(detete_starting_evens([4, 8, 10, 11, 12, 15]))"
   ]
  },
  {
   "cell_type": "code",
   "execution_count": null,
   "metadata": {},
   "outputs": [],
   "source": [
    "Create a function named odd_indices() that has one parameter named lst.\n",
    "\n",
    "The function should create a new empty list and add every element from lst that has an odd index. The function should then return this new list.\n",
    "\n",
    "For example, odd_indices([4, 3, 7, 10, 11, -2]) should return the list [3, 10, -2]."
   ]
  },
  {
   "cell_type": "code",
   "execution_count": 24,
   "metadata": {},
   "outputs": [],
   "source": [
    "def odd_indices(lst):\n",
    "\n",
    "    new_lst = []\n",
    "    for index, number in enumerate(lst):\n",
    "        if (index % 2 != 0):\n",
    "            new_lst.append(lst[index])\n",
    "    return new_lst\n"
   ]
  },
  {
   "cell_type": "code",
   "execution_count": 31,
   "metadata": {
    "tags": []
   },
   "outputs": [
    {
     "output_type": "stream",
     "name": "stdout",
     "text": "index: 0, number:4\nindex: 1, number:3\nindex: 2, number:7\nindex: 3, number:10\nindex: 4, number:11\nindex: 5, number:-2\n\nThe new list with odd indexes from input list is:[3, 10, -2]\n"
    }
   ],
   "source": [
    "lst = [4, 3, 7, 10, 11, -2]\n",
    "for index, element in enumerate(lst):\n",
    "    print(f\"index: {index}, number:{element}\")\n",
    "print(\"\")\n",
    "\n",
    "print(f\"The new list with odd indexes from input list is:{odd_indices(lst)}\")"
   ]
  },
  {
   "cell_type": "code",
   "execution_count": 35,
   "metadata": {},
   "outputs": [],
   "source": [
    "oddIndexes = [element for index, element in enumerate(lst) if (index % 2 != 0)]"
   ]
  },
  {
   "cell_type": "code",
   "execution_count": 36,
   "metadata": {
    "tags": []
   },
   "outputs": [
    {
     "output_type": "stream",
     "name": "stdout",
     "text": "[3, 10, -2]\n"
    }
   ],
   "source": [
    "print(oddIndexes)"
   ]
  },
  {
   "cell_type": "code",
   "execution_count": null,
   "metadata": {},
   "outputs": [],
   "source": [
    "Create a function named exponents() that takes two lists as parameters named bases and powers. Return a new list containing every number in bases raised to every number in powers.\n",
    "exponents([2, 3, 4], [1, 2, 3])\n",
    "the result would be the list [2, 4, 8, 3, 9, 27, 4, 16, 64]. It would first add two to the first. Then two to the second. Then two to the third, and so on."
   ]
  },
  {
   "cell_type": "code",
   "execution_count": 37,
   "metadata": {},
   "outputs": [],
   "source": [
    "def exponents(bases, powers):\n",
    "\n",
    "    raised=[]\n",
    "    # outer loop: for each element in  base list\n",
    "    for base in bases:\n",
    "        # inner loop: each element must raised to every element in powers list\n",
    "        for expoent in powers:\n",
    "            raised.append(base**expoent)\n",
    "    return raised"
   ]
  },
  {
   "cell_type": "code",
   "execution_count": 38,
   "metadata": {
    "tags": []
   },
   "outputs": [
    {
     "output_type": "stream",
     "name": "stdout",
     "text": "[2, 4, 8, 3, 9, 27, 4, 16, 64]\n"
    }
   ],
   "source": [
    "bases = [2, 3, 4]\n",
    "powers = [1, 2, 3]\n",
    "raised = exponents(bases, powers)\n",
    "print(raised)"
   ]
  },
  {
   "cell_type": "markdown",
   "metadata": {},
   "source": [
    "Create a function named larger_sum() that takes two lists of numbers as parameters named lst1 and lst2.\n",
    "\n",
    "The function should return the list whose elements sum to the greater number. If the sum of the elements of each list are equal, return lst1."
   ]
  },
  {
   "cell_type": "code",
   "execution_count": 46,
   "metadata": {},
   "outputs": [],
   "source": [
    "def larger_sum(lst1, lst2):\n",
    "\n",
    "    sum1 = 0\n",
    "    sum2 = 0\n",
    "    for num1 in lst1:\n",
    "        sum1 += num1\n",
    "    \n",
    "    for num2 in lst2:\n",
    "        sum2 += num2\n",
    "    \n",
    "    if sum1 > sum2:\n",
    "        return lst1\n",
    "    elif sum2 > sum1:\n",
    "        return lst2\n",
    "    else:\n",
    "        return lst"
   ]
  },
  {
   "cell_type": "code",
   "execution_count": 47,
   "metadata": {
    "tags": []
   },
   "outputs": [],
   "source": [
    "lst1 = [1, 9, 5]\n",
    "lst2 = [2, 9, 15]"
   ]
  },
  {
   "cell_type": "code",
   "execution_count": 48,
   "metadata": {
    "tags": []
   },
   "outputs": [
    {
     "output_type": "stream",
     "name": "stdout",
     "text": "[2, 9, 15]\n"
    }
   ],
   "source": [
    "print(larger_sum(lst1, lst2))"
   ]
  },
  {
   "cell_type": "code",
   "execution_count": null,
   "metadata": {},
   "outputs": [],
   "source": [
    "Create a function named over_nine_thousand() that takes a list of numbers named lst as a parameter.\n",
    "\n",
    "The function should sum the elements of the list until the sum is greater than 9000. When this happens, the function should return the sum. If the sum of all of the elements is never greater than 9000, the function should return total sum of all the elements. If the list is empty, the function should return 0.\n",
    "\n",
    "For example, if lst was [8000, 900, 120, 5000], then the function should return 9020"
   ]
  },
  {
   "cell_type": "code",
   "execution_count": 52,
   "metadata": {},
   "outputs": [],
   "source": [
    "def over_nine_thousand(lst):\n",
    "    \n",
    "    sum = 0\n",
    "    for number in lst:\n",
    "        sum += number\n",
    "        if sum > 9000:\n",
    "            break\n",
    "    return sum"
   ]
  },
  {
   "cell_type": "code",
   "execution_count": 53,
   "metadata": {
    "tags": []
   },
   "outputs": [
    {
     "output_type": "stream",
     "name": "stdout",
     "text": "9020\n"
    }
   ],
   "source": [
    "lista = [8000, 900, 120, 5000]\n",
    "print(f\"{over_nine_thousand(lista)}\")"
   ]
  },
  {
   "cell_type": "code",
   "execution_count": null,
   "metadata": {},
   "outputs": [],
   "source": [
    "Create a function named max_num() that takes a list of numbers named nums as a parameter.\n",
    "\n",
    "The function should return the largest number in nums."
   ]
  },
  {
   "cell_type": "code",
   "execution_count": 54,
   "metadata": {},
   "outputs": [],
   "source": [
    "def max_num(nums):\n",
    "\n",
    "  maximum = nums[0]\n",
    "  for number in nums:\n",
    "    if number > maximum:\n",
    "      maximum = number\n",
    "  return maximum\n"
   ]
  },
  {
   "cell_type": "code",
   "execution_count": 55,
   "metadata": {
    "tags": []
   },
   "outputs": [
    {
     "output_type": "stream",
     "name": "stdout",
     "text": "75\n"
    }
   ],
   "source": [
    "print(max_num([50, -10, 0, 75, 20]))"
   ]
  },
  {
   "cell_type": "code",
   "execution_count": 57,
   "metadata": {},
   "outputs": [
    {
     "output_type": "execute_result",
     "data": {
      "text/plain": "75"
     },
     "metadata": {},
     "execution_count": 57
    }
   ],
   "source": [
    "lista = [50, -10, 0, 75, 20]\n",
    "max(lista)"
   ]
  },
  {
   "cell_type": "markdown",
   "metadata": {},
   "source": [
    "Write a function named same_values() that takes two lists of numbers of equal size as parameters.\n",
    "\n",
    "The function should return a list of the indices where the values were equal in lst1 and lst2."
   ]
  },
  {
   "cell_type": "code",
   "execution_count": 58,
   "metadata": {},
   "outputs": [],
   "source": [
    "def same_values(lst1, lst2):\n",
    "  \n",
    "  new_lst = []\n",
    "  for index in range(len(lst1)):\n",
    "    if lst1[index] == lst2[index]:\n",
    "      new_lst.append(index)\n",
    "  return new_lst\n"
   ]
  },
  {
   "cell_type": "code",
   "execution_count": 59,
   "metadata": {
    "tags": []
   },
   "outputs": [
    {
     "output_type": "stream",
     "name": "stdout",
     "text": "[0, 2, 3]\n"
    }
   ],
   "source": [
    "print(same_values([5, 1, -10, 3, 3], [5, 10, -10, 3, 5]))"
   ]
  },
  {
   "cell_type": "code",
   "execution_count": null,
   "metadata": {},
   "outputs": [],
   "source": [
    "Create a function named reversed_list() that takes two lists of the same size as parameters named lst1 and lst2.\n",
    "\n",
    "The function should return True if lst1 is the same as lst2 reversed. The function should return False otherwise.\n",
    "\n",
    "For example, reversed_list([1, 2, 3], [3, 2, 1]) should return True."
   ]
  },
  {
   "cell_type": "code",
   "execution_count": 60,
   "metadata": {},
   "outputs": [],
   "source": [
    "def reversed_list(lst1, lst2):\n",
    "  for index in range(len(lst1)):\n",
    "    if lst1[index] != lst2[len(lst2) - 1 - index]:\n",
    "      return False\n",
    "  return True"
   ]
  },
  {
   "cell_type": "code",
   "execution_count": 61,
   "metadata": {
    "tags": []
   },
   "outputs": [
    {
     "output_type": "stream",
     "name": "stdout",
     "text": "True\nFalse\n"
    }
   ],
   "source": [
    "print(reversed_list([1, 2, 3], [3, 2, 1]))\n",
    "print(reversed_list([1, 5, 3], [3, 2, 1]))"
   ]
  },
  {
   "cell_type": "code",
   "execution_count": null,
   "metadata": {},
   "outputs": [],
   "source": []
  }
 ]
}
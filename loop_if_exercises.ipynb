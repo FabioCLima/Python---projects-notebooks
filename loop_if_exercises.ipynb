{
 "metadata": {
  "language_info": {
   "codemirror_mode": {
    "name": "ipython",
    "version": 3
   },
   "file_extension": ".py",
   "mimetype": "text/x-python",
   "name": "python",
   "nbconvert_exporter": "python",
   "pygments_lexer": "ipython3",
   "version": "3.6.9-final"
  },
  "orig_nbformat": 2,
  "kernelspec": {
   "name": "python36964bitvenvvirtualenv40c348f817b44481bd8c39a42ecd9aae",
   "display_name": "Python 3.6.9 64-bit ('venv': virtualenv)"
  }
 },
 "nbformat": 4,
 "nbformat_minor": 2,
 "cells": [
  {
   "cell_type": "markdown",
   "metadata": {},
   "source": [
    "## Python conditional statements and loops"
   ]
  },
  {
   "cell_type": "markdown",
   "metadata": {},
   "source": [
    "1. Write a python program to find those numbers which are divisible by 7 and multiple of 5, between 1500 and 2700 (both included)\n"
   ]
  },
  {
   "cell_type": "code",
   "execution_count": 6,
   "metadata": {},
   "outputs": [],
   "source": [
    "def find_multiples_5_7():\n",
    "\n",
    "    lst = list(range(1500, 2700, 1))\n",
    "    lst = [number for number in lst if (number % 5 == 0) and (number % 7 == 0)]\n",
    "    return lst"
   ]
  },
  {
   "cell_type": "code",
   "execution_count": 7,
   "metadata": {
    "tags": []
   },
   "outputs": [
    {
     "output_type": "stream",
     "name": "stdout",
     "text": "[1505, 1540, 1575, 1610, 1645, 1680, 1715, 1750, 1785, 1820, 1855, 1890, 1925, 1960, 1995, 2030, 2065, 2100, 2135, 2170, 2205, 2240, 2275, 2310, 2345, 2380, 2415, 2450, 2485, 2520, 2555, 2590, 2625, 2660, 2695]\n"
    }
   ],
   "source": [
    "print(f\"{find_multiples_5_7()}\")"
   ]
  },
  {
   "cell_type": "markdown",
   "metadata": {},
   "source": [
    "Write a Python program to convert temperatures to and from celsius, fahrenheit.\n",
    "Formula: c/5 = f - 32/9, where c = temperature in celsius and f = temperature in fahrenheit"
   ]
  },
  {
   "cell_type": "code",
   "execution_count": 28,
   "metadata": {
    "tags": []
   },
   "outputs": [
    {
     "output_type": "stream",
     "name": "stdout",
     "text": "The temperature of 45 fahrenheit is equal to 7.22 celsius.\n"
    }
   ],
   "source": [
    "temp = input('Input the temperature you want to convert ?. /n')\n",
    "\n",
    "if not temp.isnumeric():\n",
    "    print('Type a valid temperature!.')\n",
    "else:\n",
    "    string = input('Enter the string for the temperature, e.g. C for celsius or F for fahrenheit')\n",
    "\n",
    "    temp = int(temp)\n",
    "\n",
    "    if string.upper() == 'C':\n",
    "        result = (9 * temp) / 5 + 32\n",
    "        print(f\"The temperature of {temp} celsius (input) is equal to {result} fahrenheit.\")\n",
    "    else:\n",
    "        result = (temp - 32) * 5/9\n",
    "        print(f\"The temperature of {temp} fahrenheit is equal to {result:.2f} celsius.\")\n",
    "\n",
    "\n",
    "    "
   ]
  },
  {
   "cell_type": "markdown",
   "metadata": {},
   "source": [
    "Print pattern with * symbol on screen"
   ]
  },
  {
   "cell_type": "code",
   "execution_count": 29,
   "metadata": {
    "tags": []
   },
   "outputs": [
    {
     "output_type": "stream",
     "name": "stdout",
     "text": "\n* \n* * \n* * * \n* * * * \n* * * * * \n* * * * \n* * * \n* * \n* \n"
    }
   ],
   "source": [
    "n = 5\n",
    "# i for lines and j for columns\n",
    "for i in range(n):\n",
    "    for j in range(i):\n",
    "        print('* ', end=\"\")\n",
    "    print('')\n",
    "\n",
    "for i in range(n, 0, -1):\n",
    "    for j in range(i):\n",
    "        print('* ', end = '')\n",
    "    print('')\n",
    "    "
   ]
  },
  {
   "cell_type": "markdown",
   "metadata": {},
   "source": [
    "Write a python program that accepts a word from the user and reverse it."
   ]
  },
  {
   "cell_type": "code",
   "execution_count": 33,
   "metadata": {
    "tags": []
   },
   "outputs": [
    {
     "output_type": "stream",
     "name": "stdout",
     "text": "asac\n"
    }
   ],
   "source": [
    "word = input('Type any word for us to reverset it. \\n')\n",
    "reversed_word = \"\"\n",
    "for letter in range(len(word) - 1, -1,-1):\n",
    "    reversed_word += word[letter]\n",
    "print(reversed_word)\n"
   ]
  },
  {
   "cell_type": "markdown",
   "metadata": {},
   "source": [
    "Write a Python program to count the number of even and odd numbers from a series of numbers"
   ]
  },
  {
   "cell_type": "code",
   "execution_count": 36,
   "metadata": {
    "tags": []
   },
   "outputs": [
    {
     "output_type": "stream",
     "name": "stdout",
     "text": "Number of even numbers:5\nNumber of odd numbers: 5\n"
    }
   ],
   "source": [
    "series = list(range(10))\n",
    "even_count = 0\n",
    "odd_count = 0\n",
    "\n",
    "for number in series:\n",
    "    if number % 2 != 0:\n",
    "        odd_count += 1\n",
    "    else:\n",
    "        even_count += 1\n",
    "\n",
    "print(f'Number of even numbers:{even_count}')\n",
    "print(f\"Number of odd numbers: {odd_count}\")"
   ]
  },
  {
   "cell_type": "markdown",
   "metadata": {},
   "source": [
    "Write a Python program that prints each item and its corresponding type from the following list."
   ]
  },
  {
   "cell_type": "code",
   "execution_count": 37,
   "metadata": {
    "tags": []
   },
   "outputs": [
    {
     "output_type": "stream",
     "name": "stdout",
     "text": "1452 <class 'int'>\n11.23 <class 'float'>\n(1+2j) <class 'complex'>\nTrue <class 'bool'>\nw3resource <class 'str'>\n(0, -1) <class 'tuple'>\n[5, 12] <class 'list'>\n{'class': 'V', 'section': 'A'} <class 'dict'>\n"
    }
   ],
   "source": [
    "datalist = [1452, 11.23, 1+2j, True, 'w3resource', (0, -1), [5, 12], {\"class\":'V', \"section\":'A'}]\n",
    "\n",
    "for item in datalist:\n",
    "    print(item, type(item))"
   ]
  },
  {
   "cell_type": "code",
   "execution_count": 44,
   "metadata": {
    "tags": []
   },
   "outputs": [
    {
     "output_type": "stream",
     "name": "stdout",
     "text": "0 ,1 ,2 ,4 ,5 ,"
    }
   ],
   "source": [
    "for num in range(7):\n",
    "    if num != 3 and num != 6:\n",
    "        print(num, end= ' ,')\n",
    "        continue\n"
   ]
  },
  {
   "cell_type": "code",
   "execution_count": null,
   "metadata": {},
   "outputs": [],
   "source": []
  }
 ]
}